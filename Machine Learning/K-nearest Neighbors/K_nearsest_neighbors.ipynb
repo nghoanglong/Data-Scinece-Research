{
  "nbformat": 4,
  "nbformat_minor": 0,
  "metadata": {
    "colab": {
      "name": "K-nearsest neighbors.ipynb",
      "provenance": [],
      "authorship_tag": "ABX9TyM1XOePErLM2ikdLlSonQER",
      "include_colab_link": true
    },
    "kernelspec": {
      "display_name": "Python 3",
      "name": "python3"
    }
  },
  "cells": [
    {
      "cell_type": "markdown",
      "metadata": {
        "id": "view-in-github",
        "colab_type": "text"
      },
      "source": [
        "<a href=\"https://colab.research.google.com/github/nghoanglong/Data-Science-Research/blob/master/Machine%20Learning/K-nearest%20Neighbors/K_nearsest_neighbors.ipynb\" target=\"_parent\"><img src=\"https://colab.research.google.com/assets/colab-badge.svg\" alt=\"Open In Colab\"/></a>"
      ]
    },
    {
      "cell_type": "code",
      "metadata": {
        "id": "EPwsBjIaVcaI"
      },
      "source": [
        "import numpy as np\n",
        "import matplotlib.pyplot as plt\n",
        "from sklearn import neighbors\n",
        "from keras.datasets import mnist"
      ],
      "execution_count": null,
      "outputs": []
    },
    {
      "cell_type": "code",
      "metadata": {
        "id": "-_lcN_uhYgnT"
      },
      "source": [
        "(X_train, Y_train), (X_test, Y_test) = mnist.load_data()\n",
        "print(f'number of samples in train data: {X_train.shape}')\n",
        "print(f'number of samples in test data: {X_test.shape}')"
      ],
      "execution_count": null,
      "outputs": []
    },
    {
      "cell_type": "code",
      "metadata": {
        "id": "3ekIVqn3ZmTI"
      },
      "source": [
        "X_train_convert = X_train.reshape((X_train.shape[0], X_train.shape[1]*X_train.shape[2]))\n",
        "X_test_convert = X_test.reshape((X_test.shape[0], X_test.shape[1]*X_test.shape[2]))\n",
        "\n",
        "clf = neighbors.KNeighborsClassifier(n_neighbors=1,p=2)\n",
        "clf.fit(X_train_convert, Y_train)\n",
        "res_pred = clf.predict(X_test_convert)"
      ],
      "execution_count": null,
      "outputs": []
    },
    {
      "cell_type": "code",
      "metadata": {
        "id": "Gktlbk_y87k1"
      },
      "source": [
        "from sklearn.metrics import accuracy_score\n",
        "print(f'accuracy = {accuracy_score(Y_test, res_pred)}')"
      ],
      "execution_count": null,
      "outputs": []
    }
  ]
}