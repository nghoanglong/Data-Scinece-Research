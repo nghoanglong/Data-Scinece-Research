{
 "cells": [
  {
   "cell_type": "markdown",
   "metadata": {},
   "source": [
    "## Bài toán\n",
    "Dự đoán sinh viên **Đậu** hoặc **Không đậu** dựa trên bài toán phân loại với Logistic Regression. Data gồm 2 cột dữ liệu là kết quả 2 bài kiểm tra và labels tương ứng\n",
    "\n",
    "Data được đặt ở [link file csv](https://drive.google.com/file/d/1Yzct5Waje8WT5emQwedOAIcQfR5mCRcd/view?usp=sharing)"
   ]
  },
  {
   "cell_type": "markdown",
   "metadata": {},
   "source": [
    "### Define những thư viện cần thiết"
   ]
  },
  {
   "cell_type": "code",
   "execution_count": 1,
   "metadata": {},
   "outputs": [],
   "source": [
    "import matplotlib.pyplot as plt\n",
    "import seaborn as sns\n",
    "import numpy as np\n",
    "import pandas as pd\n",
    "%matplotlib inline"
   ]
  },
  {
   "cell_type": "code",
   "execution_count": 2,
   "metadata": {},
   "outputs": [
    {
     "data": {
      "text/html": [
       "<div>\n",
       "<style scoped>\n",
       "    .dataframe tbody tr th:only-of-type {\n",
       "        vertical-align: middle;\n",
       "    }\n",
       "\n",
       "    .dataframe tbody tr th {\n",
       "        vertical-align: top;\n",
       "    }\n",
       "\n",
       "    .dataframe thead th {\n",
       "        text-align: right;\n",
       "    }\n",
       "</style>\n",
       "<table border=\"1\" class=\"dataframe\">\n",
       "  <thead>\n",
       "    <tr style=\"text-align: right;\">\n",
       "      <th></th>\n",
       "      <th>Exam_1_Score</th>\n",
       "      <th>Exam_2_Score</th>\n",
       "      <th>Passed</th>\n",
       "    </tr>\n",
       "  </thead>\n",
       "  <tbody>\n",
       "    <tr>\n",
       "      <th>0</th>\n",
       "      <td>34.623660</td>\n",
       "      <td>78.024693</td>\n",
       "      <td>0</td>\n",
       "    </tr>\n",
       "    <tr>\n",
       "      <th>1</th>\n",
       "      <td>30.286711</td>\n",
       "      <td>43.894998</td>\n",
       "      <td>0</td>\n",
       "    </tr>\n",
       "    <tr>\n",
       "      <th>2</th>\n",
       "      <td>35.847409</td>\n",
       "      <td>72.902198</td>\n",
       "      <td>0</td>\n",
       "    </tr>\n",
       "    <tr>\n",
       "      <th>3</th>\n",
       "      <td>60.182599</td>\n",
       "      <td>86.308552</td>\n",
       "      <td>1</td>\n",
       "    </tr>\n",
       "    <tr>\n",
       "      <th>4</th>\n",
       "      <td>79.032736</td>\n",
       "      <td>75.344376</td>\n",
       "      <td>1</td>\n",
       "    </tr>\n",
       "    <tr>\n",
       "      <th>5</th>\n",
       "      <td>45.083277</td>\n",
       "      <td>56.316372</td>\n",
       "      <td>0</td>\n",
       "    </tr>\n",
       "    <tr>\n",
       "      <th>6</th>\n",
       "      <td>61.106665</td>\n",
       "      <td>96.511426</td>\n",
       "      <td>1</td>\n",
       "    </tr>\n",
       "    <tr>\n",
       "      <th>7</th>\n",
       "      <td>75.024746</td>\n",
       "      <td>46.554014</td>\n",
       "      <td>1</td>\n",
       "    </tr>\n",
       "    <tr>\n",
       "      <th>8</th>\n",
       "      <td>76.098787</td>\n",
       "      <td>87.420570</td>\n",
       "      <td>1</td>\n",
       "    </tr>\n",
       "    <tr>\n",
       "      <th>9</th>\n",
       "      <td>84.432820</td>\n",
       "      <td>43.533393</td>\n",
       "      <td>1</td>\n",
       "    </tr>\n",
       "  </tbody>\n",
       "</table>\n",
       "</div>"
      ],
      "text/plain": [
       "   Exam_1_Score  Exam_2_Score  Passed\n",
       "0     34.623660     78.024693       0\n",
       "1     30.286711     43.894998       0\n",
       "2     35.847409     72.902198       0\n",
       "3     60.182599     86.308552       1\n",
       "4     79.032736     75.344376       1\n",
       "5     45.083277     56.316372       0\n",
       "6     61.106665     96.511426       1\n",
       "7     75.024746     46.554014       1\n",
       "8     76.098787     87.420570       1\n",
       "9     84.432820     43.533393       1"
      ]
     },
     "execution_count": 2,
     "metadata": {},
     "output_type": "execute_result"
    }
   ],
   "source": [
    "# import data\n",
    "df = pd.read_csv('../data/data_logistic_regression.csv', header=None)\n",
    "df.columns = ['Exam_1_Score', 'Exam_2_Score', 'Passed']\n",
    "df.head(10)"
   ]
  },
  {
   "cell_type": "markdown",
   "metadata": {},
   "source": [
    "### Xây dựng các công thức cần thiết"
   ]
  },
  {
   "attachments": {
    "image-2.png": {
     "image/png": "[encoded data removed]"
    },
    "image-3.png": {
     "image/png": "[encoded data removed]"
    },
    "image-4.png": {
     "image/png": "[encoded data removed]"
    },
    "image-5.png": {
     "image/png": "[encoded data removed]"
    },
    "image-6.png": {
     "image/png": "[encoded data removed]"
    }
   },
   "cell_type": "markdown",
   "metadata": {},
   "source": [
    "**Hypothesis - model cùng sigmoid function:** ![image-6.png](attachment:image-6.png)\n",
    "trong đó ![image-2.png](attachment:image-2.png)\n",
    "**Cost function:** ![image-3.png](attachment:image-3.png)\n",
    "**Đạo hàm Cost function:** ![image-4.png](attachment:image-4.png)\n",
    "**Công thức Gradient Descent:** ![image-5.png](attachment:image-5.png)"
   ]
  },
  {
   "cell_type": "code",
   "execution_count": 3,
   "metadata": {},
   "outputs": [],
   "source": [
    "# xây dựng sigmoid function = g(z)\n",
    "def sigmoid_func(z):\n",
    "    return (1.0)/(1 + np.exp(-z))"
   ]
  },
  {
   "cell_type": "code",
   "execution_count": 4,
   "metadata": {},
   "outputs": [],
   "source": [
    "# cost function J(theta)\n",
    "def cost_func(X, theta, labels):\n",
    "    n_samples = X.shape[0]\n",
    "    z = np.dot(X, theta)\n",
    "    predict_prob = sigmoid_func(z)\n",
    "    \n",
    "    cost_class_1 = -labels*np.log(predict_prob)\n",
    "    cost_class_2 = (1-labels) * np.log(predict_prob)\n",
    "    cost = (cost_class_1 - cost_class_2)\n",
    "    return cost.sum()/n_samples"
   ]
  },
  {
   "cell_type": "code",
   "execution_count": 5,
   "metadata": {},
   "outputs": [],
   "source": [
    "def grad(X, theta, labels):\n",
    "    \"\"\"\n",
    "        X = (100, 3)\n",
    "        theta = (3, 1)\n",
    "    \"\"\"\n",
    "    n_samples = X.shape[0]\n",
    "    z = np.dot(X, theta)\n",
    "    predict_prob = sigmoid_func(z)\n",
    "    return np.dot(X.T, predict_prob - labels)/n_samples"
   ]
  },
  {
   "cell_type": "code",
   "execution_count": 6,
   "metadata": {},
   "outputs": [],
   "source": [
    "def train_model(X, theta_init, labels, eta, num_iter):\n",
    "    theta = [theta_init]\n",
    "    for it in range(num_iter):\n",
    "        theta_new = theta[-1] - eta*grad(X, theta[-1], labels)\n",
    "        theta.append(theta_new)\n",
    "    return (it, theta)"
   ]
  },
  {
   "cell_type": "code",
   "execution_count": 7,
   "metadata": {},
   "outputs": [
    {
     "name": "stdout",
     "output_type": "stream",
     "text": [
      "num loops = 99999, cost = 0.5352735078226911, theta = [[-4.81180027  0.04528064  0.03819149]]\n"
     ]
    }
   ],
   "source": [
    "features = np.concatenate((np.array([df['Exam_1_Score']]), np.array([df['Exam_2_Score']])),axis = 0)\n",
    "X = np.concatenate((np.ones((features.T.shape[0], 1), dtype=float), features.T), axis = 1)\n",
    "\n",
    "labels = np.array([df['Passed']]).T\n",
    "\n",
    "theta_init = np.array([[0.0, 0.0, 0.0]]).T\n",
    "num_loops, theta_optimize = train_model(X, theta_init, labels, 0.001, 100000)\n",
    "theta = theta_optimize[-1]\n",
    "print(f'num loops = {num_loops}, cost = {cost_func(X, theta, labels)}, theta = {theta.T}')"
   ]
  },
  {
   "cell_type": "markdown",
   "metadata": {},
   "source": [
    "### Visualize data"
   ]
  },
  {
   "cell_type": "code",
   "execution_count": 8,
   "metadata": {
    "scrolled": true
   },
   "outputs": [
    {
     "data": {
      "image/png": "[encoded data removed]",
      "text/plain": [
       "<Figure size 432x288 with 1 Axes>"
      ]
     },
     "metadata": {
      "needs_background": "light"
     },
     "output_type": "display_data"
    }
   ],
   "source": [
    "# visualize với xác suất xuất hiện\n",
    "point = np.array([sigmoid_func(np.dot(feature, theta)) for feature in X])\n",
    "\n",
    "dt = pd.DataFrame(data=np.concatenate((point, labels), axis = 1))\n",
    "dt.columns = ['point', 'labels']\n",
    "sns.scatterplot(data=dt, y='point', x=np.arange(0, 100, 1), hue='labels')\n",
    "plt.axhline(.5, color='black')\n",
    "plt.show()"
   ]
  },
  {
   "cell_type": "code",
   "execution_count": 9,
   "metadata": {},
   "outputs": [
    {
     "data": {
      "image/png": "[encoded data removed]",
      "text/plain": [
       "<Figure size 432x288 with 1 Axes>"
      ]
     },
     "metadata": {
      "needs_background": "light"
     },
     "output_type": "display_data"
    }
   ],
   "source": [
    "# visualize với dataset ban đầu\n",
    "x_values = [np.min(X[:, 1] - 5), np.max(X[:, 2] + 5)]\n",
    "y_values = - (theta[0, 0] + np.dot(theta[1, 0], x_values)) / theta[2, 0]\n",
    "\n",
    "sns.scatterplot(data=df, x='Exam_1_Score', y='Exam_2_Score', hue='Passed')\n",
    "plt.plot(x_values, y_values, label='Decision Boundary')\n",
    "plt.xlabel('Marks in 1st Exam')\n",
    "plt.ylabel('Marks in 2nd Exam')\n",
    "plt.axis([20, 110, 20, 110])\n",
    "plt.legend()\n",
    "plt.show()"
   ]
  },
  {
   "cell_type": "markdown",
   "metadata": {},
   "source": [
    "### Calculate accuracy"
   ]
  },
  {
   "cell_type": "code",
   "execution_count": 10,
   "metadata": {},
   "outputs": [],
   "source": [
    "def accuracy(predicted_labels, actual_labels):\n",
    "    diff = predicted_labels - actual_labels\n",
    "    return 1.0 - (float(np.count_nonzero(diff)) / len(diff))"
   ]
  },
  {
   "cell_type": "code",
   "execution_count": 11,
   "metadata": {
    "scrolled": true
   },
   "outputs": [
    {
     "name": "stdout",
     "output_type": "stream",
     "text": [
      "0.91\n"
     ]
    }
   ],
   "source": [
    "predict_labels = np.array([[1 if sigmoid_func(np.dot(feature, theta)) >= 0.5 else 0 for feature in X]]).T\n",
    "print(accuracy(predict_labels, labels))"
   ]
  },
  {
   "cell_type": "markdown",
   "metadata": {},
   "source": [
    "## Logistic Regression using Sklearn"
   ]
  },
  {
   "cell_type": "code",
   "execution_count": 12,
   "metadata": {},
   "outputs": [],
   "source": [
    "from sklearn.datasets import load_iris\n",
    "from sklearn.linear_model import LogisticRegression"
   ]
  },
  {
   "cell_type": "code",
   "execution_count": 13,
   "metadata": {},
   "outputs": [
    {
     "name": "stdout",
     "output_type": "stream",
     "text": [
      "[[-2.85831439  0.05214733  0.04531467]]\n"
     ]
    }
   ],
   "source": [
    "features = np.concatenate((np.array([df['Exam_1_Score']]), np.array([df['Exam_2_Score']])),axis = 0)\n",
    "X = np.concatenate((np.ones((features.T.shape[0], 1), dtype=float), features.T), axis = 1)\n",
    "labels = np.array(df['Passed'])\n",
    "# labels\n",
    "\n",
    "model = LogisticRegression(solver='liblinear', random_state=0)\n",
    "model.fit(X,labels)\n",
    "print(model.coef_)"
   ]
  },
  {
   "cell_type": "code",
   "execution_count": 14,
   "metadata": {},
   "outputs": [
    {
     "data": {
      "text/plain": [
       "0.91"
      ]
     },
     "execution_count": 14,
     "metadata": {},
     "output_type": "execute_result"
    }
   ],
   "source": [
    "model.score(X, labels)"
   ]
  }
 ],
 "metadata": {
  "kernelspec": {
   "display_name": "ML_env",
   "language": "python",
   "name": "ml_env"
  },
  "language_info": {
   "codemirror_mode": {
    "name": "ipython",
    "version": 3
   },
   "file_extension": ".py",
   "mimetype": "text/x-python",
   "name": "python",
   "nbconvert_exporter": "python",
   "pygments_lexer": "ipython3",
   "version": "3.8.5"
  }
 },
 "nbformat": 4,
 "nbformat_minor": 4
}
