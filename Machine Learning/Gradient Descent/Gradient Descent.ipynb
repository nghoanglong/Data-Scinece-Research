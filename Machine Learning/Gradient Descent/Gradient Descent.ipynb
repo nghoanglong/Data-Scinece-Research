{
 "cells": [
  {
   "attachments": {
    "image-2.png": {
     "image/png": "[encoded data removed]"
    },
    "image.png": {
     "image/png": "[encoded data removed]"
    }
   },
   "cell_type": "markdown",
   "metadata": {},
   "source": [
    "## Gradient Descent cho hàm một biến\n",
    "Được sử dụng để tìm điểm cực tiểu (local minimum) và giá trị nhỏ nhất (global minimum) của một hàm số f(x).\n",
    "\n",
    "Dựa vào kiến thức cấp 3, ta cũng thể thấy để tìm được local minimum, cách nhanh nhất là giải đạo hàm f'(x) = 0, sau đó thế từng x tìm được vào f(x) để tìm global minimum y, điểm làm cho hàm số đạt giá trị nhỏ nhất chính là điểm cực tiểu.\n",
    "\n",
    "Nhưng trong một số bài toán Machine Learning, việc tìm đạo hàm = 0 là hết sức khó khắn, nên ta sử dụng Gradient Descent nhằm tìm được điểm gần với local minimum nhất. Mn có thể đọc lí thuyết thêm trên google, mình xin phép đi luôn vào bài toán\n",
    "\n",
    "Giả sử hàm số ta xét ![image.png](attachment:image.png)\n",
    "\n",
    "Đạo hàm của nó là ![image-2.png](attachment:image-2.png)\n",
    "\n",
    "Ta sẽ tiến hành tìm local minimum x của hàm số này"
   ]
  },
  {
   "cell_type": "code",
   "execution_count": 1,
   "metadata": {},
   "outputs": [],
   "source": [
    "import numpy as np"
   ]
  },
  {
   "cell_type": "code",
   "execution_count": 2,
   "metadata": {},
   "outputs": [
    {
     "name": "stdout",
     "output_type": "stream",
     "text": [
      "local minimum = -1.1105108009332827, global minimum = -3.246394272691253, after 17 loops\n"
     ]
    }
   ],
   "source": [
    "def grad(x):\n",
    "    return 2*x + 5*np.cos(x)\n",
    "\n",
    "def global_minimum(x):\n",
    "    return x**2 + 5*np.sin(x)\n",
    "\n",
    "def calculate(x_0, eta):\n",
    "    local_minimum = [x_0]\n",
    "    for i in range(100):\n",
    "        local_minimum_new = local_minimum[-1] - eta*grad(local_minimum[-1])\n",
    "        if np.linalg.norm(grad(local_minimum_new)) < 1e-6:\n",
    "            # key word search: stop criteria gradient descent\n",
    "            # norm ở đây là đang tính khoảng cách giữa f'(local_m_new) = y và f'(x) = 0, nếu y đủ gần 0 thì break\n",
    "            break\n",
    "        local_minimum.append(local_minimum_new)\n",
    "    return (local_minimum, i)\n",
    "\n",
    "x, it = calculate(-5, 0.1)\n",
    "print(f'local minimum = {x[-1]}, global minimum = {global_minimum(x[-1])}, after {it} loops')"
   ]
  },
  {
   "cell_type": "markdown",
   "metadata": {},
   "source": [
    "Tùy theo điểm chọn khởi đầu x_0 và eta, ta sẽ có after loops khác nhau"
   ]
  }
 ],
 "metadata": {
  "kernelspec": {
   "display_name": "ML_env",
   "language": "python",
   "name": "ml_env"
  },
  "language_info": {
   "codemirror_mode": {
    "name": "ipython",
    "version": 3
   },
   "file_extension": ".py",
   "mimetype": "text/x-python",
   "name": "python",
   "nbconvert_exporter": "python",
   "pygments_lexer": "ipython3",
   "version": "3.8.5"
  }
 },
 "nbformat": 4,
 "nbformat_minor": 4
}
