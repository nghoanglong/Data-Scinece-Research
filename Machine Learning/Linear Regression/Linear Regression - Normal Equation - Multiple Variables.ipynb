{
 "cells": [
  {
   "cell_type": "markdown",
   "metadata": {},
   "source": [
    "### Define những thư viện cần thiết"
   ]
  },
  {
   "cell_type": "code",
   "execution_count": 1,
   "metadata": {},
   "outputs": [],
   "source": [
    "import numpy as np\n",
    "import matplotlib.pyplot as plt\n",
    "%matplotlib inline"
   ]
  },
  {
   "attachments": {
    "image.png": {
     "image/png": "[encoded data removed]"
    }
   },
   "cell_type": "markdown",
   "metadata": {},
   "source": [
    "### Linear Regression với hàm nhiều biến\n",
    "Ở đây ta sẽ xét bài toán cân nặng ở link sau [link](https://machinelearningcoban.com/2016/12/28/linearregression/), nhưng sẽ có thêm một field dữ liệu nữa là chỉ số calo mỗi ngày nạp vào.\n",
    "\n",
    "Ta có thể nhận thấy, hàm hồi quy sẽ có dạng như sau ![image.png](attachment:image.png)\n",
    "\n",
    "Việc cần làm vẫn là đi minimize lost function như ở note Linear Regression with One Variable, mn có thể quay về notebook đó để xem lại công thức\n",
    "\n",
    "Đối với hàm nhiều biến, việc visualize data trở nên khó khăn vì nó là không gian nhiều chiều nên mình sẽ ko visualize các điểm đó trên hình như bên Single Variable nữa"
   ]
  },
  {
   "cell_type": "code",
   "execution_count": 2,
   "metadata": {
    "scrolled": true
   },
   "outputs": [
    {
     "name": "stdout",
     "output_type": "stream",
     "text": [
      "Solution found by normal equation: w = [[6.08348075e+01 1.77838754e+00 4.96101260e-05]]\n"
     ]
    }
   ],
   "source": [
    "# Chuẩn bị data\n",
    "height_data = np.array([[147, 150, 153, 158, 163, 165, 168, 170, 173, 175, 178, 180, 183]]).T\n",
    "weight_data = np.array([[49, 50, 51,  54, 58, 59, 60, 62, 63, 64, 66, 67, 68]]).T\n",
    "calo_data = np.array([[1501, 1458, 1861, 1281, 1904, 1188, 1585, 1750, 1936, 1629, 827, 1945, 1508]]).T\n",
    "\n",
    "# Tìm optimal point w = normal equation\n",
    "X_bar = np.concatenate((np.ones((height_data.shape[0], 1)), np.concatenate((weight_data, calo_data), axis = 1)), axis = 1)\n",
    "A = np.dot(X_bar.T, X_bar)\n",
    "b = np.dot(X_bar.T, height_data)\n",
    "w = np.dot(np.linalg.pinv(A), b)\n",
    "\n",
    "print(f'Solution found by normal equation: w = {w.T}')\n",
    "\n",
    "# predict height\n",
    "# w_0 = w[0, 0]\n",
    "# w_1 = w[1, 0]\n",
    "# w_2 = w[2, 0]\n",
    "# height = w_0 + w_1*50 + w_2*1458\n",
    "# print(height)"
   ]
  },
  {
   "cell_type": "markdown",
   "metadata": {},
   "source": [
    "### So sánh kết quả khi sử dụng thư viện sklearn"
   ]
  },
  {
   "cell_type": "code",
   "execution_count": 3,
   "metadata": {
    "scrolled": true
   },
   "outputs": [
    {
     "name": "stdout",
     "output_type": "stream",
     "text": [
      "Solution found by scikit-learn  :  [[6.08348075e+01 1.77838754e+00 4.96101260e-05]]\n"
     ]
    }
   ],
   "source": [
    "from sklearn import datasets, linear_model\n",
    "# Chuẩn bị data\n",
    "height_data = np.array([[147, 150, 153, 158, 163, 165, 168, 170, 173, 175, 178, 180, 183]]).T\n",
    "weight_data = np.array([[49, 50, 51,  54, 58, 59, 60, 62, 63, 64, 66, 67, 68]]).T\n",
    "calo_data = np.array([[1501, 1458, 1861, 1281, 1904, 1188, 1585, 1750, 1936, 1629, 827, 1945, 1508]]).T\n",
    "\n",
    "# Tìm optimal point w = normal equation\n",
    "X_bar = np.concatenate((np.ones((height_data.shape[0], 1)), np.concatenate((weight_data, calo_data), axis = 1)), axis = 1)\n",
    "\n",
    "regr = linear_model.LinearRegression(fit_intercept=False) # fit_intercept = False for calculating the bias\n",
    "regr.fit(X_bar, height_data)\n",
    "print( 'Solution found by scikit-learn  : ', regr.coef_ )\n",
    "\n",
    "# predict height\n",
    "# w_0 = w[0, 0]\n",
    "# w_1 = w[1, 0]\n",
    "# w_2 = w[2, 0]\n",
    "# height = w_0 + w_1*50 + w_2*1458\n",
    "# print(height)"
   ]
  }
 ],
 "metadata": {
  "kernelspec": {
   "display_name": "ML_env",
   "language": "python",
   "name": "ml_env"
  },
  "language_info": {
   "codemirror_mode": {
    "name": "ipython",
    "version": 3
   },
   "file_extension": ".py",
   "mimetype": "text/x-python",
   "name": "python",
   "nbconvert_exporter": "python",
   "pygments_lexer": "ipython3",
   "version": "3.8.5"
  }
 },
 "nbformat": 4,
 "nbformat_minor": 4
}
